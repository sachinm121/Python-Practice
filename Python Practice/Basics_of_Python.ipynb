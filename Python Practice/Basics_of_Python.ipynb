{
 "cells": [
  {
   "cell_type": "markdown",
   "id": "19957c08",
   "metadata": {},
   "source": [
    "#  Basics of Python Programming Language"
   ]
  },
  {
   "cell_type": "markdown",
   "id": "cb27038b",
   "metadata": {},
   "source": [
    "<h2> Python Character Set </h2>"
   ]
  },
  {
   "cell_type": "markdown",
   "id": "61fe478c",
   "metadata": {},
   "source": [
    "<p> Python character set is a sequence of characters that are allowed to be used in Python Program.These characters are interpreted or uniquely identified by Python Interpreter in various contexts such as identifiers, names, characters, constants, etc. Python uses the following character set: </p>"
   ]
  },
  {
   "cell_type": "markdown",
   "id": "e265d54e",
   "metadata": {},
   "source": [
    "<p>\n",
    "<b>Letters:</b> Upper and lower case letters<br>\n",
    "<b>Digits:</b> 0 to 9<br>\n",
    "<b>Special Symbols:</b> Python supports all kinds of special symbols like, ” ‘ l ; : ! ~ @ # $ % ^ ` & * ( ) _ + – = { } [ ] \\ .<br>\n",
    "<b>White Spaces:</b> White spaces like tab space, blank space, newline, and carriage return.<br>\n",
    "<b>Others:</b>  All ASCII and Unicode values are supported in Python Programming Language.<br>\n",
    "</p>"
   ]
  },
  {
   "cell_type": "markdown",
   "id": "9dd455b9",
   "metadata": {},
   "source": [
    "<h2>Token</h2>"
   ]
  },
  {
   "cell_type": "markdown",
   "id": "2fd02e69",
   "metadata": {},
   "source": [
    "<img src=\"https://i.ibb.co/V3pZ54G/pt.png\" alt=\"pt\" border=\"0\">"
   ]
  },
  {
   "cell_type": "markdown",
   "id": "d3ad1b83",
   "metadata": {},
   "source": [
    "<h2>Literals</h2>"
   ]
  },
  {
   "cell_type": "markdown",
   "id": "8a88505e",
   "metadata": {},
   "source": [
    "Literal are numbers, string, or a character that appear directly in a program. Here a Few Examples:<br><b>Examples</b><br>78    #Integer Literal<br> 21.98    #Floating literal<br>'Q'    #Character Literal<br>'Sheetal Jain'    #String Literal<br><p>We can also say a literal is a value that can be assigned to a variable. And to know the type of value python provides us an inbuilt function, <b>type()</b>. Inside type function we can pass a literal or a variable that has been assigned a particular type of literal.</p>"
   ]
  },
  {
   "cell_type": "code",
   "execution_count": 14,
   "id": "d232f271",
   "metadata": {},
   "outputs": [
    {
     "data": {
      "text/plain": [
       "int"
      ]
     },
     "execution_count": 14,
     "metadata": {},
     "output_type": "execute_result"
    }
   ],
   "source": [
    "#Example 1\n",
    "type(74)"
   ]
  },
  {
   "cell_type": "code",
   "execution_count": 15,
   "id": "0e74f672",
   "metadata": {},
   "outputs": [
    {
     "data": {
      "text/plain": [
       "str"
      ]
     },
     "execution_count": 15,
     "metadata": {},
     "output_type": "execute_result"
    }
   ],
   "source": [
    "#EXample 2\n",
    "type(\"Sheetal\")"
   ]
  },
  {
   "cell_type": "markdown",
   "id": "17d9c40c",
   "metadata": {},
   "source": [
    "## Identifiers "
   ]
  },
  {
   "cell_type": "markdown",
   "id": "b6dbc4fb",
   "metadata": {},
   "source": [
    "Python Identifier is the name we give to identify a variable, list, tuple, sets, dictionary, function, class,\n",
    "module or other object. That means whenever we want to give an entity a name, that’s called identifier"
   ]
  },
  {
   "cell_type": "code",
   "execution_count": 3,
   "id": "e8beaa41",
   "metadata": {},
   "outputs": [
    {
     "name": "stdout",
     "output_type": "stream",
     "text": [
      "30\n"
     ]
    }
   ],
   "source": [
    "#Example \n",
    "a=10\n",
    "b=20\n",
    "c=a+b\n",
    "print(c)"
   ]
  },
  {
   "cell_type": "markdown",
   "id": "c93126b7",
   "metadata": {},
   "source": [
    "### Rules to define identifiers"
   ]
  },
  {
   "cell_type": "markdown",
   "id": "62ecdec5",
   "metadata": {},
   "source": [
    "1. We can use both upper and lower case alphabets, digits(0 to 9), underscore(_)\n",
    "2. Identifier should'nt start with a digit\n",
    "3. Pyhton is case sensitive i.e. total, TOTAL are two different variable\n",
    "4. We can not use keyword like if, def, for, etc. as identifiers.\n",
    "5. There is no length limit for python identifier. But it's not a good practice of programming\n",
    "6. If the identifier starts with one underscore then it is a private identifier, and if starts with two underscores then it is strongly private.\n",
    "7. If it starts as well as ends with two underscore then it is a language specific identifier defined by pyhton itself."
   ]
  },
  {
   "cell_type": "code",
   "execution_count": 4,
   "id": "25155d78",
   "metadata": {},
   "outputs": [
    {
     "name": "stdout",
     "output_type": "stream",
     "text": [
      "10   45   Sheetal   20\n"
     ]
    }
   ],
   "source": [
    "#Examples of valid identifiers\n",
    "a=10\n",
    "a123=45\n",
    "a234b456c=\"Sheetal\"\n",
    "_add=a+10\n",
    "print(a,\" \",a123,\" \",a234b456c,\" \",_add )"
   ]
  },
  {
   "cell_type": "code",
   "execution_count": 6,
   "id": "108716b3",
   "metadata": {},
   "outputs": [
    {
     "ename": "SyntaxError",
     "evalue": "invalid decimal literal (815830660.py, line 2)",
     "output_type": "error",
     "traceback": [
      "\u001b[1;36m  Cell \u001b[1;32mIn[6], line 2\u001b[1;36m\u001b[0m\n\u001b[1;33m    124abc=10\u001b[0m\n\u001b[1;37m      ^\u001b[0m\n\u001b[1;31mSyntaxError\u001b[0m\u001b[1;31m:\u001b[0m invalid decimal literal\n"
     ]
    }
   ],
   "source": [
    "#Examples of invalid indentifiers\n",
    "#Example 1\n",
    "124abc=10"
   ]
  },
  {
   "cell_type": "code",
   "execution_count": 7,
   "id": "c5e3de4c",
   "metadata": {},
   "outputs": [
    {
     "ename": "SyntaxError",
     "evalue": "invalid syntax (3331726896.py, line 2)",
     "output_type": "error",
     "traceback": [
      "\u001b[1;36m  Cell \u001b[1;32mIn[7], line 2\u001b[1;36m\u001b[0m\n\u001b[1;33m    def = 56\u001b[0m\n\u001b[1;37m        ^\u001b[0m\n\u001b[1;31mSyntaxError\u001b[0m\u001b[1;31m:\u001b[0m invalid syntax\n"
     ]
    }
   ],
   "source": [
    "#Example 2\n",
    "def = 56"
   ]
  },
  {
   "cell_type": "code",
   "execution_count": 8,
   "id": "5117ff8d",
   "metadata": {},
   "outputs": [
    {
     "name": "stdout",
     "output_type": "stream",
     "text": [
      "40    50\n"
     ]
    }
   ],
   "source": [
    "#Example of case sensitive property\n",
    "total=40\n",
    "TOTAL=50\n",
    "print(total,\"  \",TOTAL )"
   ]
  },
  {
   "cell_type": "code",
   "execution_count": 10,
   "id": "d8292db1",
   "metadata": {},
   "outputs": [
    {
     "name": "stdout",
     "output_type": "stream",
     "text": [
      "Simmi sheetal jain\n"
     ]
    }
   ],
   "source": [
    "#Example of no length limit property\n",
    "sssssssssssssssssssssssssssssssssssssssssssssssssssssssssssss=\"Simmi sheetal jain\"\n",
    "print(sssssssssssssssssssssssssssssssssssssssssssssssssssssssssssss)"
   ]
  },
  {
   "cell_type": "code",
   "execution_count": 16,
   "id": "84c1e308",
   "metadata": {},
   "outputs": [
    {
     "name": "stdout",
     "output_type": "stream",
     "text": [
      "<class 'float'>\n"
     ]
    }
   ],
   "source": [
    "#Finding type of a varible using type function \n",
    "a=45.67\n",
    "print(type(a))"
   ]
  },
  {
   "cell_type": "markdown",
   "id": "5defede5",
   "metadata": {},
   "source": [
    "<h2> Keywords </h2>"
   ]
  },
  {
   "cell_type": "markdown",
   "id": "9c770fc5",
   "metadata": {},
   "source": [
    "<h4>Keywords are reserved words that have a special meaning to the compiler. All keywords are written in small except True, False, and None. </h4>\n",
    "<br>\n",
    "Following are mostly used keywords in Python Programming\n",
    "<br>\n",
    "1. and, or, not (Logical operator)<br>\n",
    "2. as (it is used to create an alternative name, i.e. alias)<br>\n",
    "3. assert( It is used for dubugging. For example, when we do CP, cases are mathced using assert keyword)<br>\n",
    "4. break( To exit from a loop)<br>\n",
    "5. class (it is used to create user daefined data type in python<br>\n",
    "6. coninue (Used to skip iterations)<br>\n",
    "7. def ( to define a user defined function)<br>\n",
    "8. del (to delete an object)<br>\n",
    "9. elif ( conditional statement \"else if\" in python)<br>\n",
    "10. if, else (It is condition statement used)<br>\n",
    "11. except (to handle an exception instead of writing catch, we write except in python)<br>\n",
    "12. for, while ( looping statements)<br>\n",
    "13. finally ( it is used to handle exception in python)<br>\n",
    "14. True, False (Boolean Value)<br>\n",
    "15. from ( to import a module from a package)<br>\n",
    "16. global ( it is used to declare a global variable)<br>\n",
    "17. import ( to import a package)<br>\n",
    "18. is (it is usedto test if two varibles are equal)<br>\n",
    "19. in (to check presence of a member in an iterative object, it is also known as membership operator )<br>\n",
    "20. lambda (Used to create anonymous function)<br>\n",
    "21. None (equivalent to null keyword)<br>\n",
    "22. pass ( pass means \"do nothing\". It is used to define an empty block of code)<br>\n",
    "23. raise (Like in other programming language we use \"throw\" to throw an exception , in python we use \"raise\" keypword inplace of throw)<br>\n",
    "24. return ( it is used to return some result (or exit) from a function)\n"
   ]
  },
  {
   "cell_type": "code",
   "execution_count": null,
   "id": "b742eac8",
   "metadata": {},
   "outputs": [
    {
     "name": "stdout",
     "output_type": "stream",
     "text": [
      "\n",
      "Welcome to Python 3.11's help utility!\n",
      "\n",
      "If this is your first time using Python, you should definitely check out\n",
      "the tutorial on the internet at https://docs.python.org/3.11/tutorial/.\n",
      "\n",
      "Enter the name of any module, keyword, or topic to get help on writing\n",
      "Python programs and using Python modules.  To quit this help utility and\n",
      "return to the interpreter, just type \"quit\".\n",
      "\n",
      "To get a list of available modules, keywords, symbols, or topics, type\n",
      "\"modules\", \"keywords\", \"symbols\", or \"topics\".  Each module also comes\n",
      "with a one-line summary of what it does; to list the modules whose name\n",
      "or summary contain a given string such as \"spam\", type \"modules spam\".\n",
      "\n",
      "help> keywords\n",
      "\n",
      "Here is a list of the Python keywords.  Enter any keyword to get more help.\n",
      "\n",
      "False               class               from                or\n",
      "None                continue            global              pass\n",
      "True                def                 if                  raise\n",
      "and                 del                 import              return\n",
      "as                  elif                in                  try\n",
      "assert              else                is                  while\n",
      "async               except              lambda              with\n",
      "await               finally             nonlocal            yield\n",
      "break               for                 not                 \n",
      "\n"
     ]
    }
   ],
   "source": [
    "# run to get list of reserved keyword\n",
    "help()"
   ]
  },
  {
   "cell_type": "code",
   "execution_count": 4,
   "id": "baa9d307",
   "metadata": {},
   "outputs": [
    {
     "name": "stdout",
     "output_type": "stream",
     "text": [
      "['False', 'None', 'True', 'and', 'as', 'assert', 'async', 'await', 'break', 'class', 'continue', 'def', 'del', 'elif', 'else', 'except', 'finally', 'for', 'from', 'global', 'if', 'import', 'in', 'is', 'lambda', 'nonlocal', 'not', 'or', 'pass', 'raise', 'return', 'try', 'while', 'with', 'yield']\n"
     ]
    }
   ],
   "source": [
    "#Importing all keywords in python\n",
    "import keyword\n",
    "print(keyword.kwlist)"
   ]
  },
  {
   "cell_type": "markdown",
   "id": "b5a21b07",
   "metadata": {},
   "source": [
    "<h2>Operators</h2>"
   ]
  },
  {
   "cell_type": "markdown",
   "id": "19babf54",
   "metadata": {},
   "source": [
    "<p>Python operator are as same as operators in other programming languages. But there are some important things to remember: </p>"
   ]
  },
  {
   "cell_type": "markdown",
   "id": "a9438d6f",
   "metadata": {},
   "source": [
    "#### 1. Division and Floor Division "
   ]
  },
  {
   "cell_type": "markdown",
   "id": "0b060284",
   "metadata": {},
   "source": [
    "We use double slash for floor division. When we apply floor division, we get only number which is there before decimal. But if we want the actual quotient with decimal, we use single slash."
   ]
  },
  {
   "cell_type": "code",
   "execution_count": 7,
   "id": "74c41712",
   "metadata": {},
   "outputs": [
    {
     "name": "stdout",
     "output_type": "stream",
     "text": [
      "590\n",
      "590.9090909090909\n"
     ]
    }
   ],
   "source": [
    "#Example 1: \n",
    "print(13000//22)\n",
    "print(13000/22)"
   ]
  },
  {
   "cell_type": "markdown",
   "id": "f29ff363",
   "metadata": {},
   "source": [
    "Though the actual value would be like this : 590.9090909090909.\n",
    "But as  we are doing floor division, only 590  will be produced in output"
   ]
  },
  {
   "cell_type": "markdown",
   "id": "1e507f29",
   "metadata": {},
   "source": [
    "#### 2. Membership Operator"
   ]
  },
  {
   "cell_type": "markdown",
   "id": "8840a77c",
   "metadata": {},
   "source": [
    "\"in\" and \"not in\" are known as membership operator. We use them to check whether an object or element is or isn't a member of a collection or sequence. These operators return \"True\" or \"False \""
   ]
  },
  {
   "cell_type": "code",
   "execution_count": 10,
   "id": "e186a2be",
   "metadata": {},
   "outputs": [
    {
     "name": "stdout",
     "output_type": "stream",
     "text": [
      "True\n",
      "False\n"
     ]
    }
   ],
   "source": [
    "name=\"Simmisheetaljain\"\n",
    "print('n' in name)\n",
    "print('k' in name)"
   ]
  },
  {
   "cell_type": "markdown",
   "id": "8ec4d04f",
   "metadata": {},
   "source": [
    "#### 3. Identity Operator "
   ]
  },
  {
   "cell_type": "markdown",
   "id": "753a2e70",
   "metadata": {},
   "source": [
    "Identity Operators are used to check whether a value or expression is of certain type or class. Indentity operator returns either \"True\" or \"False\". We have two identity operators: \"is\" and \"is not\""
   ]
  },
  {
   "cell_type": "code",
   "execution_count": 11,
   "id": "96e273a9",
   "metadata": {},
   "outputs": [
    {
     "name": "stdout",
     "output_type": "stream",
     "text": [
      "False\n"
     ]
    }
   ],
   "source": [
    "a=10\n",
    "b=5.6\n",
    "print( a is b)\n",
    "print(a is not b)"
   ]
  },
  {
   "cell_type": "markdown",
   "id": "fc710c53",
   "metadata": {},
   "source": [
    "#### 4. Exponent Operator (**)"
   ]
  },
  {
   "cell_type": "markdown",
   "id": "2deee165",
   "metadata": {},
   "source": [
    "We can use '**' in python to evaluate exponent values. Semantics of exponent operator are as follows:"
   ]
  },
  {
   "cell_type": "markdown",
   "id": "63094fdc",
   "metadata": {},
   "source": [
    "<img src=\"https://i.ibb.co/cJvhvjP/IP.jpg\" alt=\"IP\" border=\"0\">"
   ]
  },
  {
   "cell_type": "code",
   "execution_count": 12,
   "id": "98361674",
   "metadata": {},
   "outputs": [
    {
     "name": "stdout",
     "output_type": "stream",
     "text": [
      "32\n"
     ]
    }
   ],
   "source": [
    "#Example\n",
    "print(2**5)"
   ]
  },
  {
   "cell_type": "markdown",
   "id": "bf78f4a1",
   "metadata": {},
   "source": [
    "## Operator Precedence"
   ]
  },
  {
   "cell_type": "markdown",
   "id": "ef7769cc",
   "metadata": {},
   "source": [
    "<img src=\"https://i.ibb.co/0hW41wk/OP.png\" alt=\"OP\" border=\"0\">\n"
   ]
  },
  {
   "cell_type": "markdown",
   "id": "811f3db3",
   "metadata": {},
   "source": [
    "<img src=\"https://i.ibb.co/C2dXnvN/Operator-Precedence.png\" alt=\"Operator-Precedence\" border=\"0\">"
   ]
  },
  {
   "cell_type": "markdown",
   "id": "6b56ccc2",
   "metadata": {},
   "source": [
    "<h2>Delimiters</h2>"
   ]
  },
  {
   "cell_type": "markdown",
   "id": "cd8a866d",
   "metadata": {},
   "source": [
    "Delimiters are special symbols that perform a special role in Python like grouping, punctuation, and assignments. Python uses following symbols as delimiters:<br>( ) { } [ ]<br>, : . ' =  ;<br>+= -= %= //= /= *=<br>&= |= ^= >>= <<= **="
   ]
  },
  {
   "cell_type": "code",
   "execution_count": 5,
   "id": "220bb555",
   "metadata": {},
   "outputs": [
    {
     "name": "stdout",
     "output_type": "stream",
     "text": [
      "We Can Do it!!\n"
     ]
    }
   ],
   "source": [
    "#print function\n",
    "print(\"We Can Do it!!\")"
   ]
  },
  {
   "cell_type": "code",
   "execution_count": 7,
   "id": "412537d9",
   "metadata": {},
   "outputs": [
    {
     "name": "stdout",
     "output_type": "stream",
     "text": [
      "10\n",
      "20\n",
      "30\n"
     ]
    }
   ],
   "source": [
    "## more about print function\n",
    "print(10, end='\\n')\n",
    "print(20)\n",
    "print(30)"
   ]
  },
  {
   "cell_type": "markdown",
   "id": "f87a5f05",
   "metadata": {},
   "source": [
    "# Separator"
   ]
  },
  {
   "cell_type": "markdown",
   "id": "d968fb82",
   "metadata": {},
   "source": [
    "By default the separator for the print function is a white space. For Example:\n",
    "    "
   ]
  },
  {
   "cell_type": "code",
   "execution_count": 1,
   "id": "6a02f978",
   "metadata": {},
   "outputs": [
    {
     "name": "stdout",
     "output_type": "stream",
     "text": [
      "Simmi Radha Seema Anjali\n"
     ]
    }
   ],
   "source": [
    "print(\"Simmi\",\"Radha\",\"Seema\",\"Anjali\")"
   ]
  },
  {
   "cell_type": "markdown",
   "id": "c259e79b",
   "metadata": {},
   "source": [
    "As it can be seen, the names written in double quotes are separated by a white space."
   ]
  },
  {
   "cell_type": "markdown",
   "id": "1745bb4f",
   "metadata": {},
   "source": [
    "But we can define a seprator of our own desire."
   ]
  },
  {
   "cell_type": "markdown",
   "id": "7092ce86",
   "metadata": {},
   "source": [
    "<h2>The print() function</h2>"
   ]
  },
  {
   "cell_type": "markdown",
   "id": "53bb0c38",
   "metadata": {},
   "source": [
    "The task of the print function is to display the content on the screen. The argument of print function can be value of any type, int, str, float, etc. It an also be a value stored in a varible."
   ]
  },
  {
   "cell_type": "code",
   "execution_count": 4,
   "id": "19ba2433",
   "metadata": {},
   "outputs": [
    {
     "name": "stdout",
     "output_type": "stream",
     "text": [
      "Simmi,Radha,Seema,Anjali\n"
     ]
    }
   ],
   "source": [
    "#Example 1:\n",
    "print(\"Simmi\",\"Radha\",\"Seema\",\"Anjali\",sep = \",\")"
   ]
  },
  {
   "cell_type": "code",
   "execution_count": 6,
   "id": "82891bbb",
   "metadata": {},
   "outputs": [
    {
     "name": "stdout",
     "output_type": "stream",
     "text": [
      "A =  20\n"
     ]
    }
   ],
   "source": [
    "#example 2\n",
    "a=20\n",
    "print(\"A = \", a)"
   ]
  },
  {
   "cell_type": "markdown",
   "id": "0a4de2be",
   "metadata": {},
   "source": [
    " <h2>Escape Sequence</h2>"
   ]
  },
  {
   "cell_type": "markdown",
   "id": "aa4756bd",
   "metadata": {},
   "source": [
    "Suppose you want to print the below line:<br><br> The ticket collector asked, \"May I see your ticket?\".<br><br>In python second quotation mark is considered as the end of string and it doesn't know what to do with rest of the characters.So, the string of above type will raise an error. To overcome such errors we use a special notation. This special notation consists of a backslash followed by a letter or a combination of digits and is called an <b>escape sequence</b><br> Here is a list of escape sequence used in python: <br><br><img src=\"https://qph.cf2.quoracdn.net/main-qimg-53fed3b1044f9500d387393497823b7e-lq\">"
   ]
  },
  {
   "cell_type": "code",
   "execution_count": 18,
   "id": "0055abcd",
   "metadata": {},
   "outputs": [
    {
     "name": "stdout",
     "output_type": "stream",
     "text": [
      "The ticket collector asked, \"May I see your ticket?\".\n"
     ]
    }
   ],
   "source": [
    "#Example:\n",
    "print(\"The ticket collector asked, \\\"May I see your ticket?\\\".\")"
   ]
  },
  {
   "cell_type": "code",
   "execution_count": 19,
   "id": "d9a08103",
   "metadata": {},
   "outputs": [
    {
     "name": "stdout",
     "output_type": "stream",
     "text": [
      "I\n",
      "am\n",
      "Sheetal\n",
      "Jain\n"
     ]
    }
   ],
   "source": [
    "#Example:\n",
    "print(\"I\\nam\\nSheetal\\nJain\")"
   ]
  },
  {
   "cell_type": "markdown",
   "id": "2b845acb",
   "metadata": {},
   "source": [
    "<h3>The print() function with end argument</h3>"
   ]
  },
  {
   "cell_type": "code",
   "execution_count": 20,
   "id": "79e3c605",
   "metadata": {},
   "outputs": [
    {
     "name": "stdout",
     "output_type": "stream",
     "text": [
      "I am\tI live in \n",
      "Simmi Sheetal Jain\n"
     ]
    }
   ],
   "source": [
    "#Example \n",
    "print(\"I am\", end='\\t')\n",
    "print(\"I live in \", end='\\n')\n",
    "print(\"Simmi Sheetal Jain\")"
   ]
  },
  {
   "cell_type": "code",
   "execution_count": 21,
   "id": "31229d4b",
   "metadata": {},
   "outputs": [
    {
     "name": "stdout",
     "output_type": "stream",
     "text": [
      "10 20\b"
     ]
    }
   ],
   "source": [
    "#Example \n",
    "a=10\n",
    "b=20\n",
    "print(a,b, end='\\b')"
   ]
  },
  {
   "cell_type": "markdown",
   "id": "81f5d310",
   "metadata": {},
   "source": [
    "## Assigning value to a variable and then printing it:"
   ]
  },
  {
   "cell_type": "code",
   "execution_count": 27,
   "id": "e456bb63",
   "metadata": {},
   "outputs": [
    {
     "name": "stdout",
     "output_type": "stream",
     "text": [
      "Welcome  Simmi Sheetal Jain\n"
     ]
    }
   ],
   "source": [
    "#Example 1\n",
    "Name=\"Simmi Sheetal Jain\"\n",
    "print(\"Welcome \", Name)"
   ]
  },
  {
   "cell_type": "code",
   "execution_count": 28,
   "id": "b52d779d",
   "metadata": {},
   "outputs": [
    {
     "name": "stdout",
     "output_type": "stream",
     "text": [
      "Welcome back  Simmi Sheetal Jain  in the world IT.\n"
     ]
    }
   ],
   "source": [
    "#Example 2\n",
    "print(\"Welcome back \", Name, \" in the world IT.\")"
   ]
  },
  {
   "cell_type": "code",
   "execution_count": 39,
   "id": "9a55deb3",
   "metadata": {},
   "outputs": [
    {
     "name": "stdout",
     "output_type": "stream",
     "text": [
      "My name is Sheetal\n"
     ]
    }
   ],
   "source": [
    "#Example 3\n",
    "_123=\"Sheetal\"\n",
    "print(\"My name is\",_123)"
   ]
  },
  {
   "cell_type": "markdown",
   "id": "ab689f2c",
   "metadata": {},
   "source": [
    "#### Assigning one value to multiple values at once "
   ]
  },
  {
   "cell_type": "code",
   "execution_count": 33,
   "id": "290363eb",
   "metadata": {},
   "outputs": [
    {
     "name": "stdout",
     "output_type": "stream",
     "text": [
      "100\n",
      "100\n",
      "100\n"
     ]
    }
   ],
   "source": [
    "#Example 1\n",
    "P=Q=R=100\n",
    "print(P)\n",
    "print(Q)\n",
    "print(R)"
   ]
  },
  {
   "cell_type": "markdown",
   "id": "3f5aba3b",
   "metadata": {},
   "source": [
    "#### Assigning multiple values to multiple varibles at once"
   ]
  },
  {
   "cell_type": "code",
   "execution_count": 35,
   "id": "06662a26",
   "metadata": {},
   "outputs": [
    {
     "name": "stdout",
     "output_type": "stream",
     "text": [
      "Roll No.: 38 \n",
      "Name:  Sheetal Jain \n",
      "Percentage:  75.66\n"
     ]
    }
   ],
   "source": [
    "#Example 2\n",
    "x,y,z = 38,\"Sheetal Jain\", 75.66\n",
    "print(\"Roll No.:\",x,\"\\nName: \", y,\"\\nPercentage: \",z)"
   ]
  },
  {
   "cell_type": "markdown",
   "id": "c6ef294f",
   "metadata": {},
   "source": [
    "## The input() Function"
   ]
  },
  {
   "cell_type": "markdown",
   "id": "dbbd1bff",
   "metadata": {},
   "source": [
    "input() function is used to take input from the user. It takes input in string format no matter whether the input is a string or float or int."
   ]
  },
  {
   "cell_type": "code",
   "execution_count": 40,
   "id": "d99f40a4",
   "metadata": {},
   "outputs": [
    {
     "name": "stdout",
     "output_type": "stream",
     "text": [
      "Enter your name : Sheetal Jain\n",
      "Enter Your Age : 22\n",
      "You Name is  Sheetal Jain\n",
      "Data type of your name is :  <class 'str'>\n",
      "Your age is :  22\n",
      "Data type of your age is :  <class 'str'>\n"
     ]
    }
   ],
   "source": [
    "#Example \n",
    "name=input(\"Enter your name : \")\n",
    "age=input(\"Enter Your Age : \")\n",
    "print(\"You Name is \", name)\n",
    "print(\"Data type of your name is : \",type(name))\n",
    "print(\"Your age is : \",age)\n",
    "print(\"Data type of your age is : \",type(age))"
   ]
  },
  {
   "cell_type": "markdown",
   "id": "948a01c8",
   "metadata": {},
   "source": [
    "## Type casting "
   ]
  },
  {
   "cell_type": "markdown",
   "id": "fa0ad6d2",
   "metadata": {},
   "source": [
    "There are two types of type casting: Implicit and explicit. In implicit type casting, the type of a varible is changed without programmer's intervention. In Explicit type casting, programmer can change type of a varible using following functions:<br> 1. int()  #To change to integer type<br> 2. float() #to change to a float<br>3. bool() #to chnage to a boolean data type<br> 4.str() #to change to a string data type."
   ]
  },
  {
   "cell_type": "code",
   "execution_count": 42,
   "id": "da466f0d",
   "metadata": {},
   "outputs": [
    {
     "name": "stdout",
     "output_type": "stream",
     "text": [
      "Enter your name : Simmi\n",
      "Enter Your Age : 22\n",
      "You Name is  Simmi\n",
      "Data type of your name is :  <class 'str'>\n",
      "Your age is :  22\n",
      "Data type of your age is :  <class 'int'>\n"
     ]
    }
   ],
   "source": [
    "#Example \n",
    "name=input(\"Enter your name : \")\n",
    "age=input(\"Enter Your Age : \")\n",
    "age=int(age)\n",
    "print(\"You Name is \", name)\n",
    "print(\"Data type of your name is : \",type(name))\n",
    "print(\"Your age is : \",age)\n",
    "print(\"Data type of your age is : \",type(age))"
   ]
  },
  {
   "cell_type": "markdown",
   "id": "df870552",
   "metadata": {},
   "source": [
    "## The eval() Function"
   ]
  },
  {
   "cell_type": "markdown",
   "id": "559c2a81",
   "metadata": {},
   "source": [
    "\"eval\" means evaluation. The eval() function takes a string parameter and returns it as a Python Expression. The eval() function returns the argument passed in the type it is expected."
   ]
  },
  {
   "cell_type": "code",
   "execution_count": 46,
   "id": "beef5cab",
   "metadata": {},
   "outputs": [
    {
     "name": "stdout",
     "output_type": "stream",
     "text": [
      "123\n",
      "<class 'int'>\n"
     ]
    }
   ],
   "source": [
    "#Example\n",
    "X =eval('123')\n",
    "print(X)\n",
    "print(type(X))"
   ]
  },
  {
   "cell_type": "markdown",
   "id": "13f2dc1d",
   "metadata": {},
   "source": [
    "## Applying eval() to input()"
   ]
  },
  {
   "cell_type": "markdown",
   "id": "1f404936",
   "metadata": {},
   "source": [
    "We don't know what value the user would enter. User may enter any type of data such as a string, an integer value, a float, a complex number, etc. By making use of eval(), we can avoid type casting of the entered input in required data type. When eval() function is applied to an input function, python automatically determines the type of input entered by the user. "
   ]
  },
  {
   "cell_type": "code",
   "execution_count": 1,
   "id": "61a9d681",
   "metadata": {},
   "outputs": [
    {
     "name": "stdout",
     "output_type": "stream",
     "text": [
      "Enter a number : Simmi\n",
      "It's not a number\n"
     ]
    }
   ],
   "source": [
    "#Example \n",
    "name=eval('input(\"Enter a number : \")')\n",
    "if type(name)==type(23):\n",
    "    print('Enter input is an integre')\n",
    "else:\n",
    "    print(\"It's not a number\")"
   ]
  },
  {
   "cell_type": "markdown",
   "id": "84dc0362",
   "metadata": {},
   "source": [
    "## Formating Numbers and String"
   ]
  },
  {
   "cell_type": "markdown",
   "id": "db013e50",
   "metadata": {},
   "source": [
    "Formating a number or a string makes it presentable to a user. For example, if your want to print a floating point decimal number upto two digits after decimal, you can use format() fucntion as follows:"
   ]
  },
  {
   "cell_type": "code",
   "execution_count": 7,
   "id": "26f5f14e",
   "metadata": {},
   "outputs": [
    {
     "name": "stdout",
     "output_type": "stream",
     "text": [
      "Number is :  234.76\n"
     ]
    }
   ],
   "source": [
    "#Example \n",
    "x = 234.763544356\n",
    "print(\"Number is : \",format(x,\".2f\"))"
   ]
  },
  {
   "cell_type": "markdown",
   "id": "c0092437",
   "metadata": {},
   "source": [
    "#### Syntax of format() : "
   ]
  },
  {
   "cell_type": "markdown",
   "id": "b605668e",
   "metadata": {},
   "source": [
    "<p>format(item, format-specifier)</p>"
   ]
  },
  {
   "cell_type": "code",
   "execution_count": 8,
   "id": "93a84b46",
   "metadata": {},
   "outputs": [
    {
     "name": "stdout",
     "output_type": "stream",
     "text": [
      "     12.35\n",
      "     12.00\n",
      "     12.30\n"
     ]
    }
   ],
   "source": [
    "#Examples\n",
    "print(format(12.34567,\"10.2f\"))\n",
    "print(format(12,\"10.2f\"))\n",
    "print(format(12.3,\"10.2f\"))"
   ]
  },
  {
   "cell_type": "markdown",
   "id": "1f2eb54c",
   "metadata": {},
   "source": [
    "### The below table shows frequently used specifiers."
   ]
  },
  {
   "cell_type": "markdown",
   "id": "94e539ae",
   "metadata": {},
   "source": [
    " <img src=\"https://shorturl.at/gACIT\" alt=\"IP\" border=\"0\"> "
   ]
  },
  {
   "cell_type": "markdown",
   "id": "b2101a7a",
   "metadata": {},
   "source": [
    "### Integer Fomatting"
   ]
  },
  {
   "cell_type": "markdown",
   "id": "ca088903",
   "metadata": {},
   "source": [
    "We use d and x in integer formatting. d indicates that an integer is to be formatted and x indicates that an integer is formatted into a hexadecimal."
   ]
  },
  {
   "cell_type": "code",
   "execution_count": 12,
   "id": "59ec1315",
   "metadata": {},
   "outputs": [
    {
     "name": "stdout",
     "output_type": "stream",
     "text": [
      "        12\n",
      "        14\n"
     ]
    }
   ],
   "source": [
    "#Example 1\n",
    "print(format(12,\"10d\"))   #Right Justification \n",
    "#Example 2\n",
    "print(format(20,\"10x\"))   #Integer formatted to Hexadecimal Integer"
   ]
  },
  {
   "cell_type": "markdown",
   "id": "33b3a32f",
   "metadata": {},
   "source": [
    "### Formatting a String"
   ]
  },
  {
   "cell_type": "markdown",
   "id": "0722b5c4",
   "metadata": {},
   "source": [
    "We use s for formatting string. String, by default, is left justified. To Justify it to the left, we do formatting as follows:"
   ]
  },
  {
   "cell_type": "code",
   "execution_count": 18,
   "id": "506b3f07",
   "metadata": {},
   "outputs": [
    {
     "name": "stdout",
     "output_type": "stream",
     "text": [
      "Simmi Sheetal Jain       \n",
      "       Simmi Sheetal Jain\n",
      "            Simmi Sheetal Jain\n",
      "                 Simmi Sheetal Jain\n",
      "                      Simmi Sheetal Jain\n"
     ]
    }
   ],
   "source": [
    "#Example 1\n",
    "print(format(\"Simmi Sheetal Jain\",\"25s\"))\n",
    "print(format(\"Simmi Sheetal Jain\",\">25s\"))\n",
    "print(format(\"Simmi Sheetal Jain\",\">30s\"))\n",
    "print(format(\"Simmi Sheetal Jain\",\">35s\"))\n",
    "print(format(\"Simmi Sheetal Jain\",\">40s\"))"
   ]
  },
  {
   "cell_type": "markdown",
   "id": "a3b41a9e",
   "metadata": {},
   "source": [
    "Here, in the above function, '25s' specifies that the string will be formatted with a width of 25 and '>' indicates right justification."
   ]
  },
  {
   "cell_type": "markdown",
   "id": "b704e54e",
   "metadata": {},
   "source": [
    "### Formatting as a Percentage"
   ]
  },
  {
   "cell_type": "markdown",
   "id": "5a07d66a",
   "metadata": {},
   "source": [
    "We use % to format as a percentage."
   ]
  },
  {
   "cell_type": "code",
   "execution_count": 1,
   "id": "eac161b2",
   "metadata": {},
   "outputs": [
    {
     "name": "stdout",
     "output_type": "stream",
     "text": [
      "      0.31\n",
      "   331.00%\n",
      "   131.40%\n"
     ]
    }
   ],
   "source": [
    "#example 1\n",
    "print(format(0.31456,\"10.2\"))\n",
    "print(format(3.31,\"10.2%\"))\n",
    "print(format(1.314,\"10.2%\"))"
   ]
  },
  {
   "cell_type": "markdown",
   "id": "29e97d2f",
   "metadata": {},
   "source": [
    "The number is multiplied by 100 to format it as a percentage. In the above example \"10.2%\" indicates that the integer is to be formatted with a width of 10. In width, % is counted as one space."
   ]
  },
  {
   "cell_type": "markdown",
   "id": "d9e20ad5",
   "metadata": {},
   "source": [
    "### Formatting Scientific Notation"
   ]
  },
  {
   "cell_type": "markdown",
   "id": "50b279c5",
   "metadata": {},
   "source": [
    "To format a floating number, we used \"f\". To format a floating point number, we can also use scientific notation using the conversion code \"e\"."
   ]
  },
  {
   "cell_type": "code",
   "execution_count": 23,
   "id": "44fbd220",
   "metadata": {},
   "outputs": [
    {
     "name": "stdout",
     "output_type": "stream",
     "text": [
      "  3.12e+01\n"
     ]
    }
   ],
   "source": [
    "#example : \n",
    "print(format(31.23746,\"10.2e\"))"
   ]
  },
  {
   "cell_type": "markdown",
   "id": "5a11d7eb",
   "metadata": {},
   "source": [
    "## The ord() and chr() Functions"
   ]
  },
  {
   "cell_type": "markdown",
   "id": "e0beea6c",
   "metadata": {},
   "source": [
    "<b>ord()</b> function is used to return ascii value of a character passed in it as an argument. A character can be a single character or a special symbol or a number. And <b>chr()</b> is used to return the character corresponding to the value passed in it."
   ]
  },
  {
   "cell_type": "code",
   "execution_count": 50,
   "id": "3a179741",
   "metadata": {},
   "outputs": [
    {
     "name": "stdout",
     "output_type": "stream",
     "text": [
      "36\n",
      "ʺ\n"
     ]
    }
   ],
   "source": [
    "#Example \n",
    "print(ord('$'))\n",
    "print(chr(698))"
   ]
  },
  {
   "cell_type": "markdown",
   "id": "365a50dd",
   "metadata": {},
   "source": [
    "## How to return size of a varible"
   ]
  },
  {
   "cell_type": "code",
   "execution_count": 31,
   "id": "759b3270",
   "metadata": {},
   "outputs": [
    {
     "data": {
      "text/plain": [
       "28"
      ]
     },
     "execution_count": 31,
     "metadata": {},
     "output_type": "execute_result"
    }
   ],
   "source": [
    "import sys\n",
    "a=45\n",
    "sys.getsizeof(a)"
   ]
  },
  {
   "cell_type": "markdown",
   "id": "5311151f",
   "metadata": {},
   "source": [
    "## Python changes variable size dynamically"
   ]
  },
  {
   "cell_type": "markdown",
   "id": "7c1c605a",
   "metadata": {},
   "source": [
    "Python changes size of a varible dynamically because it is a dynamic programming language"
   ]
  },
  {
   "cell_type": "code",
   "execution_count": 30,
   "id": "6a86feec",
   "metadata": {},
   "outputs": [
    {
     "name": "stdout",
     "output_type": "stream",
     "text": [
      "1287368745662776547356245552\n",
      "40\n",
      "56\n"
     ]
    }
   ],
   "source": [
    "#Example \n",
    "import sys\n",
    "d=1287368745662776547356245552\n",
    "print(d)\n",
    "print(sys.getsizeof(d))\n",
    "d=394888885674678678465783678467657643864785364876578346578346847474\n",
    "print(\"New size : \")\n",
    "print(sys.getsizeof(d))"
   ]
  },
  {
   "cell_type": "markdown",
   "id": "db5f83e5",
   "metadata": {},
   "source": [
    "<h3>True and False Keyword and their working</h3>"
   ]
  },
  {
   "cell_type": "markdown",
   "id": "9aaacd95",
   "metadata": {},
   "source": [
    "False means 0 or lower bit, True means 1 or higher bit."
   ]
  },
  {
   "cell_type": "code",
   "execution_count": 1,
   "id": "166e65c8",
   "metadata": {},
   "outputs": [
    {
     "data": {
      "text/plain": [
       "0"
      ]
     },
     "execution_count": 1,
     "metadata": {},
     "output_type": "execute_result"
    }
   ],
   "source": [
    "#Examples\n",
    "False*True"
   ]
  },
  {
   "cell_type": "code",
   "execution_count": 2,
   "id": "de484e45",
   "metadata": {},
   "outputs": [
    {
     "data": {
      "text/plain": [
       "1"
      ]
     },
     "execution_count": 2,
     "metadata": {},
     "output_type": "execute_result"
    }
   ],
   "source": [
    "False+True"
   ]
  },
  {
   "cell_type": "code",
   "execution_count": 3,
   "id": "eef5f04a",
   "metadata": {},
   "outputs": [
    {
     "data": {
      "text/plain": [
       "2"
      ]
     },
     "execution_count": 3,
     "metadata": {},
     "output_type": "execute_result"
    }
   ],
   "source": [
    "True+True"
   ]
  },
  {
   "cell_type": "markdown",
   "id": "425efb82",
   "metadata": {},
   "source": [
    "<b>Note : </b> The only values which are false :  0, 0.0, False, 0+0j"
   ]
  },
  {
   "cell_type": "code",
   "execution_count": 35,
   "id": "112939d6",
   "metadata": {},
   "outputs": [
    {
     "name": "stdout",
     "output_type": "stream",
     "text": [
      "False\n",
      "False\n",
      "False\n",
      "False\n"
     ]
    }
   ],
   "source": [
    "#Example \n",
    "a=bool(0)\n",
    "print(a)\n",
    "a=bool(0.0)\n",
    "print(a)\n",
    "a=bool(0+0j)\n",
    "print(a)\n",
    "a=bool(False)\n",
    "print(a)"
   ]
  },
  {
   "cell_type": "markdown",
   "id": "421900db",
   "metadata": {},
   "source": [
    "<h2>Basics of String</h2>"
   ]
  },
  {
   "cell_type": "code",
   "execution_count": 1,
   "id": "93d862e5",
   "metadata": {},
   "outputs": [
    {
     "name": "stdout",
     "output_type": "stream",
     "text": [
      "Anjali and Sheetal will not stop till they do something great\n"
     ]
    }
   ],
   "source": [
    "a=\"Anjali\"\n",
    "c=\" and \"\n",
    "b=\"Sheetal\"\n",
    "d=\" will not stop till they do something great\"\n",
    "print(a+c+b+d)"
   ]
  },
  {
   "cell_type": "code",
   "execution_count": 7,
   "id": "8f33b8c0",
   "metadata": {},
   "outputs": [
    {
     "name": "stdout",
     "output_type": "stream",
     "text": [
      "Sheetal's aim is to make Indian IT industry a bit more accessible\n"
     ]
    }
   ],
   "source": [
    "msg=\"Sheetal's aim is to make Indian IT industry a bit more accessible\"\n",
    "print(msg)"
   ]
  },
  {
   "cell_type": "code",
   "execution_count": 8,
   "id": "e0715bdf",
   "metadata": {},
   "outputs": [],
   "source": [
    "msg=\"\"\" Let's learn \"Python\" \"\"\""
   ]
  },
  {
   "cell_type": "code",
   "execution_count": 9,
   "id": "4fe7f3be",
   "metadata": {},
   "outputs": [
    {
     "name": "stdout",
     "output_type": "stream",
     "text": [
      " Let's learn \"Python\" \n"
     ]
    }
   ],
   "source": [
    "print(msg)"
   ]
  },
  {
   "cell_type": "code",
   "execution_count": 2,
   "id": "4295631c",
   "metadata": {},
   "outputs": [
    {
     "name": "stdout",
     "output_type": "stream",
     "text": [
      "3rd : E\n"
     ]
    }
   ],
   "source": [
    "#negativeo indexing\n",
    "word=\"SHEETAL JAIN\"\n",
    "print(\"3rd :\",word[-10])"
   ]
  },
  {
   "cell_type": "code",
   "execution_count": 18,
   "id": "3409ecef",
   "metadata": {},
   "outputs": [
    {
     "name": "stdout",
     "output_type": "stream",
     "text": [
      "3rd : E\n"
     ]
    }
   ],
   "source": [
    "#non-negative\n",
    "word=\"SHEETAL JAIN\"\n",
    "print(\"3rd :\",word[2])"
   ]
  },
  {
   "cell_type": "code",
   "execution_count": 7,
   "id": "f311063d",
   "metadata": {},
   "outputs": [
    {
     "name": "stdout",
     "output_type": "stream",
     "text": [
      "Good Morning\n"
     ]
    }
   ],
   "source": [
    "#Contatenation\n",
    "s1=\"Good\" \n",
    "s2=\"Morning\" \n",
    "s3=s1+\" \"+s2\n",
    "print(s3)"
   ]
  },
  {
   "cell_type": "code",
   "execution_count": 5,
   "id": "7d8f8925",
   "metadata": {},
   "outputs": [
    {
     "name": "stdout",
     "output_type": "stream",
     "text": [
      "Sheetal Jain can, But without Sai , she is half of her actual strength\n"
     ]
    }
   ],
   "source": [
    "m=\"Sheetal Jain can\"\n",
    "print(m,end=\", \")\n",
    "print(\"But without \",end=\"\")\n",
    "print(m[0],end=\"\")\n",
    "print(m[-2],end=\"\")\n",
    "print(m[-6],end=\"\")\n",
    "print(\" , she is half of her actual strength\")"
   ]
  },
  {
   "cell_type": "code",
   "execution_count": 4,
   "id": "e4ee389c",
   "metadata": {},
   "outputs": [
    {
     "name": "stdout",
     "output_type": "stream",
     "text": [
      "mihea\n"
     ]
    }
   ],
   "source": [
    "m=\"SimmiSheetalJain\"\n",
    "print(m[2:12:2])"
   ]
  },
  {
   "cell_type": "markdown",
   "id": "170a342b",
   "metadata": {},
   "source": [
    "## Preactice Questions<br>\n",
    "Q1. What is a variable?<br>\n",
    "Q2. How to declare a varible<br>\n",
    "Q3. WAP to print sum of two numbers.<br>\n",
    "Q4. WAP to print area and perimeter of a rectangel <br>\n",
    "Q5. WAP to print area and perimeter of a circle<br>\n",
    "Q6. WAP to print type of varible <br>\n",
    "Q7. WAP to print following information of a studens<br>\n",
    "Name: Simmi Jain <br>\n",
    "Enrollment Number: 233BCA293866<br>\n",
    "Percentage: 81<br>\n",
    "Section: A<br>\n",
    "    "
   ]
  },
  {
   "cell_type": "code",
   "execution_count": 3,
   "id": "227d8735",
   "metadata": {},
   "outputs": [
    {
     "name": "stdout",
     "output_type": "stream",
     "text": [
      "Enter width: 5\n",
      "Enter length: 7\n",
      "Area is:  35\n",
      "Perimeter is :  24\n"
     ]
    }
   ],
   "source": [
    "#Ans of Q4\n",
    "l=int(input(\"Enter width: \"))\n",
    "b=int(input(\"Enter length: \"))\n",
    "print(\"Area is: \", l*b)\n",
    "print(\"Perimeter is : \", 2*(l+b))"
   ]
  },
  {
   "cell_type": "code",
   "execution_count": 4,
   "id": "3a33d550",
   "metadata": {},
   "outputs": [
    {
     "name": "stdout",
     "output_type": "stream",
     "text": [
      "Enter radius: 5\n",
      "Area is:  78.5\n",
      "Perimeter is:  31.400000000000002\n"
     ]
    }
   ],
   "source": [
    "#Ans of Q5\n",
    "r=int(input(\"Enter radius: \"))\n",
    "print(\"Area is: \", 3.14*(r**2))\n",
    "print(\"Perimeter is: \", (2*3.14*r))"
   ]
  },
  {
   "cell_type": "code",
   "execution_count": 5,
   "id": "3a048912",
   "metadata": {},
   "outputs": [
    {
     "name": "stdout",
     "output_type": "stream",
     "text": [
      "<class 'int'>\n",
      "<class 'float'>\n",
      "<class 'str'>\n",
      "<class 'bool'>\n",
      "<class 'float'>\n"
     ]
    }
   ],
   "source": [
    "#Ans of Q6\n",
    "a=10\n",
    "print(type(a))\n",
    "a=20.0\n",
    "print(type(a))\n",
    "a=\"30\"\n",
    "print(type(a))\n",
    "print(type(10>20))\n",
    "print(type(10+34.5))"
   ]
  },
  {
   "cell_type": "code",
   "execution_count": 9,
   "id": "0dd6ab71",
   "metadata": {},
   "outputs": [
    {
     "name": "stdout",
     "output_type": "stream",
     "text": [
      "Name:  Simmi Jain\n",
      "Enrollment :  233BCA293866\n",
      "Pecentage :  81\n",
      "Section:  A\n",
      "\n",
      "\n",
      "ID of Name:  1299643207856\n",
      "ID of Enrollment :  1299642656560\n",
      "ID of Pecentage :  140727251082536\n",
      "ID of Section:  140727251124224\n"
     ]
    }
   ],
   "source": [
    "#Ans of Q7\n",
    "Name = \"Simmi Jain\"\n",
    "Enrollment_Number = \"233BCA293866\"\n",
    "Percentage = 81 \n",
    "Section = 'A'\n",
    "print(\"Name: \", Name)\n",
    "print(\"Enrollment : \",Enrollment_Number)\n",
    "print(\"Pecentage : \",Percentage)\n",
    "print(\"Section: \",Section)\n",
    "#Ids of all varibles \n",
    "print(\"\\n\")\n",
    "print(\"ID of Name: \", id(Name))\n",
    "print(\"ID of Enrollment : \",id(Enrollment_Number))\n",
    "print(\"ID of Pecentage : \",id(Percentage))\n",
    "print(\"ID of Section: \",id(Section))"
   ]
  },
  {
   "cell_type": "code",
   "execution_count": 2,
   "id": "b5d86d1e",
   "metadata": {},
   "outputs": [
    {
     "name": "stdout",
     "output_type": "stream",
     "text": [
      "B\n"
     ]
    }
   ],
   "source": [
    "def verify(num1,num2):\n",
    "    if num1 > num2:\n",
    "        return num1\n",
    "    elif num1 == num2:\n",
    "        return 1\n",
    "    else:\n",
    "        return num2\n",
    "\n",
    "def display(arg1,arg2):\n",
    "    if(verify(arg1,arg2)==arg1):\n",
    "        print(\"A\")\n",
    "    elif(verify(arg1,arg2)==1):\n",
    "        print(\"C\")\n",
    "    else:\n",
    "        print(\"B\")\n",
    "\n",
    "display(1000,3500)"
   ]
  },
  {
   "cell_type": "code",
   "execution_count": 3,
   "id": "74015e8a",
   "metadata": {},
   "outputs": [
    {
     "name": "stdout",
     "output_type": "stream",
     "text": [
      "2\n"
     ]
    }
   ],
   "source": [
    "num1=100\n",
    "num2=200\n",
    "num3=6\n",
    "if(5>=num3):\n",
    "    if(num1>100 or num2>150):\n",
    "        print(\"1\")\n",
    "elif(num1>=100 and num2>150):\n",
    "    print(\"2\")\n",
    "else:\n",
    "    print(\"3\")"
   ]
  },
  {
   "cell_type": "code",
   "execution_count": 5,
   "id": "0a65aca7",
   "metadata": {},
   "outputs": [
    {
     "name": "stdout",
     "output_type": "stream",
     "text": [
      "Nothing\n"
     ]
    }
   ],
   "source": [
    "for variable_1 in range(1,5,-1):\n",
    "    print(\"executed\")\n",
    "print(\"Nothing\")"
   ]
  },
  {
   "cell_type": "code",
   "execution_count": 6,
   "id": "67cef3c3",
   "metadata": {},
   "outputs": [
    {
     "name": "stdout",
     "output_type": "stream",
     "text": [
      "TPF\n",
      "Not TPF\n",
      "Not TPF\n",
      "Not TPF\n",
      "TPF\n",
      "TPF\n",
      "Not TPF\n"
     ]
    }
   ],
   "source": [
    "grade_list = [\"A+\",\"A-\",\"B\",\"B+\",\"A+\",\"A+\",\"A-\"]\n",
    "for grade in grade_list:\n",
    "    if grade == \"A+\":\n",
    "        print(\"TPF\")\n",
    "    else:\n",
    "        print(\"Not TPF\")"
   ]
  },
  {
   "cell_type": "code",
   "execution_count": 7,
   "id": "3dec6170",
   "metadata": {},
   "outputs": [
    {
     "name": "stdout",
     "output_type": "stream",
     "text": [
      "25\n",
      "26\n",
      "27\n",
      "28\n"
     ]
    }
   ],
   "source": [
    "number=28\n",
    "for num in range(25,30):\n",
    "    if(number>num):\n",
    "        print(num)\n",
    "    else:\n",
    "        print(num)\n",
    "        break"
   ]
  },
  {
   "cell_type": "code",
   "execution_count": 8,
   "id": "0089ba2d",
   "metadata": {},
   "outputs": [
    {
     "name": "stdout",
     "output_type": "stream",
     "text": [
      "45 50 90 "
     ]
    }
   ],
   "source": [
    "for num in 23, 45, 50, 65, 76, 90:\n",
    "    if(num%5!=0):\n",
    "        continue\n",
    "    if(num%10==0):\n",
    "        print(num, end=\" \")\n",
    "        continue\n",
    "    if(num%3==0):\n",
    "        print(num, end=\" \")"
   ]
  },
  {
   "cell_type": "code",
   "execution_count": 9,
   "id": "f961a5d7",
   "metadata": {},
   "outputs": [
    {
     "name": "stdout",
     "output_type": "stream",
     "text": [
      "10 20 15 30 "
     ]
    }
   ],
   "source": [
    "for number in 10,15:\n",
    "    for counter in range(1,3):\n",
    "        print(number*counter, end=\" \")"
   ]
  },
  {
   "cell_type": "code",
   "execution_count": 14,
   "id": "cdfa3180",
   "metadata": {},
   "outputs": [
    {
     "name": "stdout",
     "output_type": "stream",
     "text": [
      "4.0\n"
     ]
    }
   ],
   "source": [
    "num1=16\n",
    "num2=6\n",
    "while(num1>=2):\n",
    "    if(num1>num2):\n",
    "        num1=num1/2\n",
    "    else:\n",
    "        print(num1)\n",
    "        break"
   ]
  },
  {
   "cell_type": "code",
   "execution_count": 15,
   "id": "4488efe0",
   "metadata": {},
   "outputs": [
    {
     "name": "stdout",
     "output_type": "stream",
     "text": [
      "2\n"
     ]
    }
   ],
   "source": [
    "a=[1,2,3]\n",
    "print(a.index(3))"
   ]
  },
  {
   "cell_type": "code",
   "execution_count": 16,
   "id": "e8686231",
   "metadata": {},
   "outputs": [
    {
     "name": "stdout",
     "output_type": "stream",
     "text": [
      "-100.5\n"
     ]
    }
   ],
   "source": [
    "num_list = [100.5,30.465,-1.22,20.15]\n",
    "num_list.insert(1, -100.5)\n",
    "num_list.pop(0)\n",
    "num_list.sort()\n",
    "print(num_list[0])"
   ]
  },
  {
   "cell_type": "code",
   "execution_count": 17,
   "id": "e4e9321f",
   "metadata": {},
   "outputs": [
    {
     "name": "stdout",
     "output_type": "stream",
     "text": [
      "5\n",
      "25\n"
     ]
    },
    {
     "ename": "IndexError",
     "evalue": "list index out of range",
     "output_type": "error",
     "traceback": [
      "\u001b[1;31m---------------------------------------------------------------------------\u001b[0m",
      "\u001b[1;31mIndexError\u001b[0m                                Traceback (most recent call last)",
      "Cell \u001b[1;32mIn[17], line 4\u001b[0m\n\u001b[0;32m      2\u001b[0m \u001b[38;5;28mprint\u001b[39m(\u001b[38;5;28mlen\u001b[39m(list1))\n\u001b[0;32m      3\u001b[0m \u001b[38;5;28mprint\u001b[39m(list1[\u001b[38;5;241m4\u001b[39m])\n\u001b[1;32m----> 4\u001b[0m \u001b[38;5;28mprint\u001b[39m(list1[\u001b[38;5;241m5\u001b[39m])\n\u001b[0;32m      5\u001b[0m \u001b[38;5;28mprint\u001b[39m(list1[\u001b[38;5;241m4\u001b[39m:\u001b[38;5;241m5\u001b[39m])\n\u001b[0;32m      6\u001b[0m list1[\u001b[38;5;241m2\u001b[39m]\u001b[38;5;241m=\u001b[39m\u001b[38;5;241m12\u001b[39m\n",
      "\u001b[1;31mIndexError\u001b[0m: list index out of range"
     ]
    }
   ],
   "source": [
    "list1=[5,10,15,20,25]\n",
    "print(len(list1))\n",
    "print(list1[4])\n",
    "print(list1[5])\n",
    "print(list1[4:5])\n",
    "list1[2]=12\n",
    "print(list1)\n",
    "list1=list1+[8,9]"
   ]
  },
  {
   "cell_type": "code",
   "execution_count": 18,
   "id": "e47a6580",
   "metadata": {},
   "outputs": [
    {
     "name": "stdout",
     "output_type": "stream",
     "text": [
      "5\n"
     ]
    },
    {
     "ename": "TypeError",
     "evalue": "'tuple' object does not support item assignment",
     "output_type": "error",
     "traceback": [
      "\u001b[1;31m---------------------------------------------------------------------------\u001b[0m",
      "\u001b[1;31mTypeError\u001b[0m                                 Traceback (most recent call last)",
      "Cell \u001b[1;32mIn[18], line 3\u001b[0m\n\u001b[0;32m      1\u001b[0m tuple1\u001b[38;5;241m=\u001b[39m(\u001b[38;5;241m5\u001b[39m,\u001b[38;5;241m10\u001b[39m,\u001b[38;5;241m15\u001b[39m,\u001b[38;5;241m20\u001b[39m,\u001b[38;5;241m25\u001b[39m)\n\u001b[0;32m      2\u001b[0m \u001b[38;5;28mprint\u001b[39m(\u001b[38;5;28mlen\u001b[39m(tuple1))\n\u001b[1;32m----> 3\u001b[0m tuple1[\u001b[38;5;241m2\u001b[39m]\u001b[38;5;241m=\u001b[39m\u001b[38;5;241m100\u001b[39m\n\u001b[0;32m      4\u001b[0m \u001b[38;5;28mprint\u001b[39m(tuple1[\u001b[38;5;241m5\u001b[39m])\n\u001b[0;32m      5\u001b[0m tuple1\u001b[38;5;241m=\u001b[39mtuple1\u001b[38;5;241m+\u001b[39m(\u001b[38;5;241m8\u001b[39m,\u001b[38;5;241m9\u001b[39m,\u001b[38;5;124m\"\u001b[39m\u001b[38;5;124mh\u001b[39m\u001b[38;5;124m\"\u001b[39m)\n",
      "\u001b[1;31mTypeError\u001b[0m: 'tuple' object does not support item assignment"
     ]
    }
   ],
   "source": [
    "tuple1=(5,10,15,20,25)\n",
    "print(len(tuple1))\n",
    "tuple1[2]=100\n",
    "print(tuple1[5])\n",
    "tuple1=tuple1+(8,9,\"h\")"
   ]
  },
  {
   "cell_type": "code",
   "execution_count": 19,
   "id": "6a0e4a98",
   "metadata": {},
   "outputs": [
    {
     "name": "stdout",
     "output_type": "stream",
     "text": [
      "come to Mys\n"
     ]
    }
   ],
   "source": [
    "message=\"welcome to Mysore\"\n",
    "word=message[-7:]\n",
    "if(word==\"mysore\"):\n",
    "    print(\"got it\")\n",
    "else:\n",
    "    message=message[3:14]\n",
    "    print(message)"
   ]
  },
  {
   "cell_type": "code",
   "execution_count": 20,
   "id": "038c4037",
   "metadata": {},
   "outputs": [
    {
     "name": "stdout",
     "output_type": "stream",
     "text": [
      "1\n"
     ]
    }
   ],
   "source": [
    "song=\"JINGLE Bells jingle Bells Jingle All The Way\"\n",
    "song.upper()\n",
    "song_words=song.split()\n",
    "count=0\n",
    "for word in song_words:\n",
    "    if(word.startswith(\"jingle\")):\n",
    "        count=count+1\n",
    "print(count)"
   ]
  },
  {
   "cell_type": "code",
   "execution_count": 21,
   "id": "f41f8b0e",
   "metadata": {},
   "outputs": [
    {
     "name": "stdout",
     "output_type": "stream",
     "text": [
      "5 10\n"
     ]
    }
   ],
   "source": [
    "sample_dict = {'a':1,'b':2}\n",
    "sample_dict.update({'b':5, 'c':10 })\n",
    "print(sample_dict.get('b'), sample_dict.get('c'))"
   ]
  }
 ],
 "metadata": {
  "kernelspec": {
   "display_name": "Python 3 (ipykernel)",
   "language": "python",
   "name": "python3"
  },
  "language_info": {
   "codemirror_mode": {
    "name": "ipython",
    "version": 3
   },
   "file_extension": ".py",
   "mimetype": "text/x-python",
   "name": "python",
   "nbconvert_exporter": "python",
   "pygments_lexer": "ipython3",
   "version": "3.11.4"
  }
 },
 "nbformat": 4,
 "nbformat_minor": 5
}
